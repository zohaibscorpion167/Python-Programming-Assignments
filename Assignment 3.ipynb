{
 "cells": [
  {
   "cell_type": "code",
   "execution_count": 2,
   "metadata": {},
   "outputs": [
    {
     "name": "stdout",
     "output_type": "stream",
     "text": [
      "Enter value 1 = 1\n",
      "Enter Operator = +\n",
      "Enter value 2 = 2\n",
      "Answer =  3\n"
     ]
    }
   ],
   "source": [
    "val1 = int(input(\"Enter value 1 = \"))\n",
    "operator = input(\"Enter Operator = \")\n",
    "\n",
    "if operator == \"**\":\n",
    "    power = int(input(\"Enter Power Value = \"))\n",
    "    val=val1**power\n",
    "    print(\"Answer =\",val)\n",
    "else:\n",
    "    val2 = int(input(\"Enter value 2 = \"))\n",
    "\n",
    "if operator == \"+\":\n",
    "    val=val1+val2\n",
    "    print(\"Answer = \", val)\n",
    "elif operator == \"-\":\n",
    "    val=val1-val2\n",
    "    print(\"Answer = \" , val)\n",
    "elif operator == \"*\":\n",
    "    val=val1*val2\n",
    "    print(\"Answer = \", val )\n",
    "elif operator == \"/\":\n",
    "    val=val1/val2\n",
    "    print(\"Answer = \", val)\n"
   ]
  },
  {
   "cell_type": "code",
   "execution_count": 1,
   "metadata": {},
   "outputs": [
    {
     "name": "stdout",
     "output_type": "stream",
     "text": [
      "Integers in List: \n",
      "4\n",
      "55\n",
      "6\n",
      "7\n"
     ]
    }
   ],
   "source": [
    "List =[\"a\",\"b\",4,\"e\",55,\"c\",\"F\",6,\"1\",7]\n",
    "print(\"Integers in List: \")\n",
    "for integer in List:\n",
    "       if type(integer) == int: \n",
    "        \n",
    "        print(integer)\n",
    "        "
   ]
  },
  {
   "cell_type": "code",
   "execution_count": 5,
   "metadata": {},
   "outputs": [
    {
     "name": "stdout",
     "output_type": "stream",
     "text": [
      "{'first name': 'Muhammad', 'lastname': 'Zohaib', 'address': 'Karachi', 'laguage': 'English'}\n"
     ]
    }
   ],
   "source": [
    "customer = {\n",
    "    \"first name\": \"Muhammad\",\n",
    "    \"lastname\": \"Zohaib\",\n",
    "    \"address\": \"Karachi\"\n",
    "}\n",
    "customer[\"laguage\"] = \"English\"\n",
    "print(customer)"
   ]
  },
  {
   "cell_type": "code",
   "execution_count": 11,
   "metadata": {},
   "outputs": [
    {
     "name": "stdout",
     "output_type": "stream",
     "text": [
      "73\n"
     ]
    }
   ],
   "source": [
    "List ={4,55,6,1,7}\n",
    "a = sum(List)\n",
    "print(a)\n"
   ]
  },
  {
   "cell_type": "code",
   "execution_count": 4,
   "metadata": {},
   "outputs": [
    {
     "name": "stdout",
     "output_type": "stream",
     "text": [
      "Repeating Elements are: \n",
      "Hello\n",
      "Ok\n",
      "is\n",
      "test\n"
     ]
    }
   ],
   "source": [
    "my_list = ['Hello', 'Ok', 'is', 'Ok', 'test', 'this', 'is', 'a', 'test','Hello']\n",
    "my_list.sort()\n",
    "print(\"Repeating Elements are: \")\n",
    "for i in range(len(my_list)-1):\n",
    "     if my_list[i] == my_list[i+1]:\n",
    "        print (my_list[i])\n",
    "        \n",
    "       "
   ]
  },
  {
   "cell_type": "code",
   "execution_count": 24,
   "metadata": {},
   "outputs": [
    {
     "name": "stdout",
     "output_type": "stream",
     "text": [
      "Enter key to check:A\n",
      "Key Exists and value of the key is:\n",
      "1\n"
     ]
    }
   ],
   "source": [
    "val = {\"A\":\"1\",\n",
    "   \"B\":\"2\",\n",
    "   \"C\":\"3\"\n",
    "  }\n",
    "key=input(\"Enter key to check: \")\n",
    "if key in val.keys():\n",
    "    print(\"Key Exists and value of the key is:\")\n",
    "    print(val[key])\n",
    "else:\n",
    "      print(\"Key isn't present!\")"
   ]
  },
  {
   "cell_type": "code",
   "execution_count": null,
   "metadata": {},
   "outputs": [],
   "source": []
  },
  {
   "cell_type": "code",
   "execution_count": null,
   "metadata": {},
   "outputs": [],
   "source": []
  }
 ],
 "metadata": {
  "kernelspec": {
   "display_name": "Python 3",
   "language": "python",
   "name": "python3"
  },
  "language_info": {
   "codemirror_mode": {
    "name": "ipython",
    "version": 3
   },
   "file_extension": ".py",
   "mimetype": "text/x-python",
   "name": "python",
   "nbconvert_exporter": "python",
   "pygments_lexer": "ipython3",
   "version": "3.7.4"
  }
 },
 "nbformat": 4,
 "nbformat_minor": 2
}
