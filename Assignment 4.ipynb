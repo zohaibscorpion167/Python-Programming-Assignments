{
 "cells": [
  {
   "cell_type": "code",
   "execution_count": 5,
   "metadata": {},
   "outputs": [
    {
     "name": "stdout",
     "output_type": "stream",
     "text": [
      " Person's first name is Muhammad\n",
      " Person's last name is Zohaib\n",
      " Person's age is 24\n",
      " Person's city is Karachi\n",
      " Person's qualification is Masters\n",
      "{'first name': 'Muhammad', 'last name': 'Zohaib', 'age': '24', 'city': 'Karachi'}\n"
     ]
    }
   ],
   "source": [
    "person = {\n",
    "    \"first name\": \"Muhammad\",\n",
    "    \"last name\": \"Zohaib\",\n",
    "    \"age\": \"24\",\n",
    "    \"city\":\"Karachi\"\n",
    "}\n",
    "person [\"qualification\"] = \"Masters\"\n",
    "for each_key, each_value in person.items():\n",
    "    print(\" Person's \" + each_key + \" is \" + each_value)\n",
    "del person [\"qualification\"]\n",
    "print (person)\n"
   ]
  },
  {
   "cell_type": "code",
   "execution_count": 24,
   "metadata": {},
   "outputs": [
    {
     "name": "stdout",
     "output_type": "stream",
     "text": [
      "Karachi: {'country': 'pakistan', 'population': '14.91 million', 'fact': 'It is the Sixth largest city in the world by city population'}\n",
      "New York: {'country': 'america', 'population': '8.623 million', 'fact': 'New York City is the largest city in the United States'}\n",
      "Sydney: {'country': 'australia', 'population': '5.23 million', 'fact': 'It is the 12th most expensive city'}\n"
     ]
    }
   ],
   "source": [
    "cities = {\n",
    "   \"karachi\": {\n",
    "        \"country\": \"pakistan\",\n",
    "        \"population\":\"14.91 million\",\n",
    "        \"fact\" : \"It is the Sixth largest city in the world by city population\",    \n",
    "    },\n",
    "    \"new york\": {\n",
    "        \"country\": \"america\",\n",
    "        \"population\":\"8.623 million\",\n",
    "        \"fact\" : \"New York City is the largest city in the United States\"\n",
    "    },\n",
    "    \"sydney\": {\n",
    "        \"country\": \"australia\",\n",
    "        \"population\":\"5.23 million\",\n",
    "        \"fact\" : \"It is the 12th most expensive city\"\n",
    "    },\n",
    "\n",
    "}\n",
    "print(\"Karachi:\",cities[\"karachi\"])\n",
    "print(\"New York:\",cities[\"new york\"])\n",
    "print(\"Sydney:\",cities[\"sydney\"])"
   ]
  },
  {
   "cell_type": "code",
   "execution_count": 46,
   "metadata": {},
   "outputs": [
    {
     "name": "stdout",
     "output_type": "stream",
     "text": [
      "Enter Age: 33\n",
      "Ticket = $15\n"
     ]
    }
   ],
   "source": [
    "age = int(input(\"Enter Age: \"))\n",
    "if age < 3:\n",
    "    print(\"Your ticket is free\")\n",
    "elif age > 3 and age < 12:\n",
    "    print(\"Ticket = $10\")\n",
    "elif age > 12:\n",
    "    print(\"Ticket = $15\")"
   ]
  },
  {
   "cell_type": "code",
   "execution_count": 50,
   "metadata": {},
   "outputs": [
    {
     "name": "stdout",
     "output_type": "stream",
     "text": [
      "One of my favorite book is Alice in Wonder Land\n"
     ]
    }
   ],
   "source": [
    "def favorite_book(title):\n",
    "    book = \"One of my favorite book is\" + \" \" + title\n",
    "    print(book)\n",
    "    \n",
    "favorite_book(\"Alice in Wonder Land\")\n"
   ]
  },
  {
   "cell_type": "code",
   "execution_count": 95,
   "metadata": {},
   "outputs": [
    {
     "name": "stdout",
     "output_type": "stream",
     "text": [
      "Guess a Number Between 1 To 30: 30\n",
      "Hint:Try Smallerr!\n",
      "Second Chance: 20\n",
      "Hint:Try Smallerr!\n",
      "Third Chance: 15\n",
      "Better Luck Next Time!\n",
      "Random Number was:  4\n"
     ]
    }
   ],
   "source": [
    "num = int(input(\"Guess a Number Between 1 To 30: \")) \n",
    "import random\n",
    "for x in range(1):\n",
    "        guess = random.randint(1,30)\n",
    "        if num == guess:\n",
    "            print(\"You Win!\")\n",
    "        elif num > guess:\n",
    "            print(\"Hint:Try Smallerr!\")\n",
    "            a = int(input(\"Second Chance: \"))\n",
    "            if a == guess:\n",
    "                print(\"You Win!\")\n",
    "            elif a > guess:\n",
    "                print(\"Hint:Try Smallerr!\")\n",
    "                b = int(input(\"Third Chance: \"))\n",
    "                if b == guess:\n",
    "                    print(\"You Win!\")\n",
    "                else:\n",
    "                    print(\"Better Luck Next Time!\")    \n",
    "        elif num < guess:\n",
    "            print(\"Hint:Try Greater!\")\n",
    "        \n",
    "            a = int(input(\"Second Chance: \"))\n",
    "            if a == guess:\n",
    "                print(\"You Win!\")\n",
    "            elif a < guess:\n",
    "                print(\"Hint:Try Greater!\")\n",
    "                b = int(input(\"Third Chance: \"))\n",
    "                if b == guess:\n",
    "                    print(\"You Win!\")\n",
    "        \n",
    "                else:\n",
    "                    print(\"Better Luck Next Time!\")\n",
    "print(\"Random Number was: \",guess)        "
   ]
  },
  {
   "cell_type": "code",
   "execution_count": null,
   "metadata": {},
   "outputs": [],
   "source": []
  },
  {
   "cell_type": "code",
   "execution_count": null,
   "metadata": {},
   "outputs": [],
   "source": []
  },
  {
   "cell_type": "code",
   "execution_count": null,
   "metadata": {},
   "outputs": [],
   "source": []
  }
 ],
 "metadata": {
  "kernelspec": {
   "display_name": "Python 3",
   "language": "python",
   "name": "python3"
  },
  "language_info": {
   "codemirror_mode": {
    "name": "ipython",
    "version": 3
   },
   "file_extension": ".py",
   "mimetype": "text/x-python",
   "name": "python",
   "nbconvert_exporter": "python",
   "pygments_lexer": "ipython3",
   "version": "3.7.4"
  }
 },
 "nbformat": 4,
 "nbformat_minor": 2
}
