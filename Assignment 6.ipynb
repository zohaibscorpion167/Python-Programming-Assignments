{
 "cells": [
  {
   "cell_type": "code",
   "execution_count": 6,
   "metadata": {},
   "outputs": [
    {
     "name": "stdout",
     "output_type": "stream",
     "text": [
      "Vehicle Name: Civic\n",
      "Vehicle Color: Black\n",
      "Vehicle Model: 2017\n",
      "Vehicle Milage: 16km/lt.\n",
      "Vehicle Top Speed: 220\n"
     ]
    }
   ],
   "source": [
    "class Car():\n",
    "    def __init__(self,name,color,model,milage,topspeed):\n",
    "        self.name = name\n",
    "        self.color = color\n",
    "        self.model = model\n",
    "        self.milage = milage\n",
    "        self.topspeed = topspeed\n",
    "car_features = Car(\"Civic\",\"Black\",\"2017\",\"16km/lt.\",\"220\")\n",
    "print(\"Vehicle Name:\",car_features.name)\n",
    "print(\"Vehicle Color:\",car_features.color)\n",
    "print(\"Vehicle Model:\",car_features.model)\n",
    "print(\"Vehicle Milage:\",car_features.milage)\n",
    "print(\"Vehicle Top Speed:\",car_features.topspeed)\n"
   ]
  },
  {
   "cell_type": "code",
   "execution_count": null,
   "metadata": {},
   "outputs": [],
   "source": []
  }
 ],
 "metadata": {
  "kernelspec": {
   "display_name": "Python 3",
   "language": "python",
   "name": "python3"
  },
  "language_info": {
   "codemirror_mode": {
    "name": "ipython",
    "version": 3
   },
   "file_extension": ".py",
   "mimetype": "text/x-python",
   "name": "python",
   "nbconvert_exporter": "python",
   "pygments_lexer": "ipython3",
   "version": "3.7.4"
  }
 },
 "nbformat": 4,
 "nbformat_minor": 2
}
