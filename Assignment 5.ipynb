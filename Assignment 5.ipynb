{
 "cells": [
  {
   "cell_type": "code",
   "execution_count": 59,
   "metadata": {},
   "outputs": [
    {
     "name": "stdout",
     "output_type": "stream",
     "text": [
      "120\n"
     ]
    }
   ],
   "source": [
    "def factorial(n):\n",
    "    if n == 0:\n",
    "        return 1\n",
    "    else:\n",
    "        return n * factorial(n-1)\n",
    "       \n",
    "print(factorial(5))"
   ]
  },
  {
   "cell_type": "code",
   "execution_count": 1,
   "metadata": {},
   "outputs": [
    {
     "name": "stdout",
     "output_type": "stream",
     "text": [
      "Enter Letters: adsadaqAAHAyqwhYYXhq\n",
      "Letters :  adsadaqAAHAyqwhYYXhq\n",
      "No. of Upper case Letters :  7\n",
      "No. of Lower case Letters :  13\n"
     ]
    }
   ],
   "source": [
    "def letters_to_check():\n",
    "    s = input(\"Enter Letters: \")\n",
    "    d={\"uppercase\":0,\n",
    "       \"lowercase\":0}\n",
    "    for c in s:\n",
    "        if c.isupper():\n",
    "            d[\"uppercase\"]+=1\n",
    "        elif c.islower():\n",
    "            d[\"lowercase\"]+=1\n",
    "        else:\n",
    "            pass\n",
    "    print (\"Letters : \", s)\n",
    "    print (\"No. of Upper case Letters : \", d[\"uppercase\"])\n",
    "    print (\"No. of Lower case Letters : \", d[\"lowercase\"])\n",
    "\n",
    "letters_to_check()"
   ]
  },
  {
   "cell_type": "code",
   "execution_count": 2,
   "metadata": {},
   "outputs": [
    {
     "name": "stdout",
     "output_type": "stream",
     "text": [
      "Even Numbers in a List:\n",
      "2\n",
      "4\n",
      "6\n",
      "8\n",
      "32\n",
      "78\n",
      "4\n",
      "78\n",
      "98\n"
     ]
    }
   ],
   "source": [
    "List = [1,2,3,4,5,6,7,8,9,32,45,65,78,3,4,78,98,67]\n",
    "print(\"Even Numbers in a List:\")\n",
    "for even in List:\n",
    "    if even%2 == 0:\n",
    "        print(even)"
   ]
  },
  {
   "cell_type": "code",
   "execution_count": 3,
   "metadata": {},
   "outputs": [
    {
     "name": "stdout",
     "output_type": "stream",
     "text": [
      "Enter a word to check: madam\n",
      "The Word is a palindrome.\n"
     ]
    }
   ],
   "source": [
    "def my_str():\n",
    "    word=input(\"Enter a word to check: \")\n",
    "    word = word.casefold()\n",
    "    rev_str = reversed(word)\n",
    "    if list(word) == list(rev_str):\n",
    "        print(\"The Word is a palindrome.\")\n",
    "    else:\n",
    "        print(\"The Word is not a palindrome.\")\n",
    "        \n",
    "my_str()"
   ]
  },
  {
   "cell_type": "code",
   "execution_count": 20,
   "metadata": {},
   "outputs": [
    {
     "name": "stdout",
     "output_type": "stream",
     "text": [
      "12 is not a prime number\n"
     ]
    }
   ],
   "source": [
    "def value(num = 12):\n",
    "    \n",
    "    if num > 1: \n",
    "        for i in range(2,num):  \n",
    "            if (num % i) == 0:\n",
    "                print(num,\"is not a prime number\")  \n",
    "                break\n",
    "            else:\n",
    "                print(num,\"is a prime number\") \n",
    "                break\n",
    "value()\n",
    "    "
   ]
  },
  {
   "cell_type": "code",
   "execution_count": 12,
   "metadata": {},
   "outputs": [
    {
     "name": "stdout",
     "output_type": "stream",
     "text": [
      "1.Mouse 2.Mobile 3.Laptop 4.Printer 5.keyboard\n"
     ]
    }
   ],
   "source": [
    "def shopping_list(item1,item2,item3,item4,item5):\n",
    "    items = \"1.\"+item1 +\" \"+ \"2.\"+item2 +\" \"+ \"3.\"+item3 +\" \"+ \"4.\"+item4 +\" \"+\"5.\"+item5\n",
    "    print(items)\n",
    "    \n",
    "shopping_list(\"Mouse\",\"Mobile\",\"Laptop\",\"Printer\", item5=\"keyboard\")\n"
   ]
  },
  {
   "cell_type": "code",
   "execution_count": null,
   "metadata": {},
   "outputs": [],
   "source": []
  },
  {
   "cell_type": "code",
   "execution_count": null,
   "metadata": {},
   "outputs": [],
   "source": []
  }
 ],
 "metadata": {
  "kernelspec": {
   "display_name": "Python 3",
   "language": "python",
   "name": "python3"
  },
  "language_info": {
   "codemirror_mode": {
    "name": "ipython",
    "version": 3
   },
   "file_extension": ".py",
   "mimetype": "text/x-python",
   "name": "python",
   "nbconvert_exporter": "python",
   "pygments_lexer": "ipython3",
   "version": "3.7.4"
  }
 },
 "nbformat": 4,
 "nbformat_minor": 2
}
