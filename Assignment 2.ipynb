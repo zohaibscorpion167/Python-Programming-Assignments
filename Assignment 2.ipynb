{
 "cells": [
  {
   "cell_type": "code",
   "execution_count": 36,
   "metadata": {},
   "outputs": [
    {
     "name": "stdout",
     "output_type": "stream",
     "text": [
      "Enter Your English Marks: 65\n",
      "Enter Your Urdu Marks: 67\n",
      "Enter Your Maths Marks: 87\n",
      "Enter Your Coumputer Marks: 98\n",
      "Enter Your Science Marks: 99\n",
      "=====Student's Marksheet=====\n",
      "English = 65\n",
      "Urdu = 67\n",
      "Maths = 87\n",
      "Computer = 98\n",
      "Science = 99\n",
      "Obtained Marks = 416 /500\n",
      "Your Percentage = 152.0 %\n",
      "Grade = A+\n"
     ]
    }
   ],
   "source": [
    "#Marksheet \n",
    "English = int(input(\"Enter Your English Marks: \"))\n",
    "Urdu = int(input(\"Enter Your Urdu Marks: \"))\n",
    "Maths = int(input(\"Enter Your Maths Marks: \"))\n",
    "Computer = int(input(\"Enter Your Coumputer Marks: \"))\n",
    "Science = int(input(\"Enter Your Science Marks: \"))\n",
    "\n",
    "total = English+Urdu+Maths+Computer+Science\n",
    "if total > 500:\n",
    "    print(\"Invalid Marks\")\n",
    "else:\n",
    "    print(\"=====Student's Marksheet=====\")\n",
    "    print(\"English =\",English)\n",
    "    print(\"Urdu =\",Urdu)\n",
    "    print(\"Maths =\",Maths)\n",
    "    print(\"Computer =\",Computer)\n",
    "    print(\"Science =\",Science)\n",
    "    print(\"Obtained Marks =\",total,\"/500\")\n",
    "    print(\"Your Percentage =\",per,\"%\")\n",
    "per = (total/500)*100\n",
    "\n",
    "if per >= 80 and per <= 100:\n",
    "    print (\"Grade = A+\")\n",
    "elif per >= 70 and per < 80 :\n",
    "    print (\"Grade = A\")\n",
    "elif per >= 60 and per < 70 :\n",
    "    print (\"Grade = B\")\n",
    "elif per >= 50 and per < 60 :\n",
    "    print (\"Grade = C\")\n",
    "elif per >= 0 and per < 40 :\n",
    "    print (\"Grade = Fail\")\n",
    "else :\n",
    "    print(\"Wrong Percentage\")"
   ]
  },
  {
   "cell_type": "code",
   "execution_count": 30,
   "metadata": {},
   "outputs": [
    {
     "name": "stdout",
     "output_type": "stream",
     "text": [
      "Enter an Integer to Identify: 22222222222222222222\n",
      "Number is even\n"
     ]
    }
   ],
   "source": [
    "Number = int(input(\"Enter an Integer to Identify: \"))\n",
    "if (Number % 2) == 0:\n",
    "    print(\"Number is even\")\n",
    "else:\n",
    "    print (\"Number is odd\")"
   ]
  },
  {
   "cell_type": "code",
   "execution_count": 43,
   "metadata": {},
   "outputs": [
    {
     "name": "stdout",
     "output_type": "stream",
     "text": [
      "Length of list =  7\n"
     ]
    }
   ],
   "source": [
    "A = [1,2,3,4,5,\"e\",\"B\"]\n",
    "print(\"Length of list = \",len(A))"
   ]
  },
  {
   "cell_type": "code",
   "execution_count": 46,
   "metadata": {},
   "outputs": [
    {
     "name": "stdout",
     "output_type": "stream",
     "text": [
      "Sum of list =  49\n"
     ]
    }
   ],
   "source": [
    "A = [1,2,3,4,5,7,8,9,10]\n",
    "print(\"Sum of list = \",sum(A))"
   ]
  },
  {
   "cell_type": "code",
   "execution_count": 48,
   "metadata": {},
   "outputs": [
    {
     "name": "stdout",
     "output_type": "stream",
     "text": [
      "Largest Number in List =  91\n"
     ]
    }
   ],
   "source": [
    "A = [15,26,34,44,52,75,83,91,10,34]\n",
    "print(\"Largest Number in List = \",max(A))"
   ]
  },
  {
   "cell_type": "code",
   "execution_count": 63,
   "metadata": {},
   "outputs": [
    {
     "name": "stdout",
     "output_type": "stream",
     "text": [
      "1\n",
      "1\n",
      "2\n",
      "3\n"
     ]
    }
   ],
   "source": [
    "List = [1, 1, 2, 3, 5, 8, 13, 21, 34, 55, 89]\n",
    "for item in List:\n",
    "    if item < 5 and item >0:\n",
    "        print(item)\n",
    "    "
   ]
  },
  {
   "cell_type": "code",
   "execution_count": null,
   "metadata": {},
   "outputs": [],
   "source": []
  }
 ],
 "metadata": {
  "kernelspec": {
   "display_name": "Python 3",
   "language": "python",
   "name": "python3"
  },
  "language_info": {
   "codemirror_mode": {
    "name": "ipython",
    "version": 3
   },
   "file_extension": ".py",
   "mimetype": "text/x-python",
   "name": "python",
   "nbconvert_exporter": "python",
   "pygments_lexer": "ipython3",
   "version": "3.7.4"
  }
 },
 "nbformat": 4,
 "nbformat_minor": 2
}
