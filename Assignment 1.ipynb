{
 "cells": [
  {
   "cell_type": "code",
   "execution_count": 10,
   "metadata": {},
   "outputs": [
    {
     "name": "stdout",
     "output_type": "stream",
     "text": [
      "Twinkle, twinkle, little star,\n",
      "       How I wonder what you are!\n",
      "             Up above the world so high,\n",
      "             Like a diamond in the sky.\n",
      "Twinkle, twinkle, little star,\n",
      "       How I wonder what you are!\n"
     ]
    }
   ],
   "source": [
    "print(\"Twinkle, twinkle, little star,\")\n",
    "print(\"       How I wonder what you are!\")\n",
    "print(\"             Up above the world so high,\")\n",
    "print(\"             Like a diamond in the sky.\")\n",
    "print(\"Twinkle, twinkle, little star,\")\n",
    "print(\"       How I wonder what you are!\")"
   ]
  },
  {
   "cell_type": "code",
   "execution_count": 4,
   "metadata": {},
   "outputs": [
    {
     "name": "stdout",
     "output_type": "stream",
     "text": [
      "Python Version: 3.7.4\n"
     ]
    }
   ],
   "source": [
    "import platform\n",
    "print(\"Python Version:\", platform.python_version())\n"
   ]
  },
  {
   "cell_type": "code",
   "execution_count": 48,
   "metadata": {},
   "outputs": [
    {
     "name": "stdout",
     "output_type": "stream",
     "text": [
      "Today's Date: 17/12/2019\n",
      "Current Time: 14:19:37\n"
     ]
    }
   ],
   "source": [
    "# Current Date and Time\n",
    "from datetime import date\n",
    "today = date.today()\n",
    "current_date = today.strftime(\"%d/%m/%Y\")\n",
    "print(\"Today's Date:\", current_date)\n",
    "\n",
    "from datetime import datetime\n",
    "now = datetime.now()\n",
    "current_time = now.strftime(\"%H:%M:%S\")\n",
    "print(\"Current Time:\", current_time)\n",
    "\n",
    "\n"
   ]
  },
  {
   "cell_type": "code",
   "execution_count": 3,
   "metadata": {},
   "outputs": [
    {
     "name": "stdout",
     "output_type": "stream",
     "text": [
      "Enter Radius of cirlce = 3\n",
      "By Using Formula A = π*r^2\n",
      "Area of the Circle = 28.26\n"
     ]
    }
   ],
   "source": [
    "# Area of Circle\n",
    "radius = float(input(\"Enter Radius of cirlce = \"))\n",
    "area = 3.14*radius**2\n",
    "print(\"By Using Formula A = π*r^2\")\n",
    "print(\"Area of the Circle =\",area)"
   ]
  },
  {
   "cell_type": "code",
   "execution_count": 43,
   "metadata": {},
   "outputs": [
    {
     "name": "stdout",
     "output_type": "stream",
     "text": [
      "Enter Your First Name: Muhammad \n",
      "Enter Your Last Name: Zohaib\n",
      "Zohaib Muhammad \n"
     ]
    }
   ],
   "source": [
    "first_name = input(\"Enter Your First Name: \")\n",
    "last_name = input(\"Enter Your Last Name: \")\n",
    "print(last_name ,first_name)"
   ]
  },
  {
   "cell_type": "code",
   "execution_count": 47,
   "metadata": {},
   "outputs": [
    {
     "name": "stdout",
     "output_type": "stream",
     "text": [
      "Enter First Value = 3\n",
      "Enter Second Value = 4\n",
      "Answer =  7\n"
     ]
    }
   ],
   "source": [
    "val1 = int(input(\"Enter First Value = \"))\n",
    "val2 = int(input(\"Enter Second Value = \"))\n",
    "add = val1+val2\n",
    "print(\"Answer = \",add)"
   ]
  },
  {
   "cell_type": "code",
   "execution_count": null,
   "metadata": {},
   "outputs": [],
   "source": []
  }
 ],
 "metadata": {
  "kernelspec": {
   "display_name": "Python 3",
   "language": "python",
   "name": "python3"
  },
  "language_info": {
   "codemirror_mode": {
    "name": "ipython",
    "version": 3
   },
   "file_extension": ".py",
   "mimetype": "text/x-python",
   "name": "python",
   "nbconvert_exporter": "python",
   "pygments_lexer": "ipython3",
   "version": "3.7.4"
  }
 },
 "nbformat": 4,
 "nbformat_minor": 2
}
